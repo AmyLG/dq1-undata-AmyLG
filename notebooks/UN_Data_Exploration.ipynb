{
 "cells": [
  {
   "cell_type": "markdown",
   "metadata": {},
   "source": [
    "# Data Question 1: An Exploration of UN data"
   ]
  },
  {
   "cell_type": "markdown",
   "metadata": {},
   "source": [
    "##Guided Practice:\n",
    "\n",
    "1. Download two CSV files and place them in the data folder of your local \n",
    "Data Question 1 repository: \n",
    "a. Gross Domestic Product (GDP) per capita: \n",
    "http://data.un.org/Data.aspx?d=WDI&f=Indicator_Code%3aNY \n",
    ".GDP.PCAP.PP.KD \n",
    "• DO NOT APPLY ANY FILTERS \n",
    "• rename the file to gdp_per_capita.csv \n",
    "• open it with a text editor (not Excel) and take a look \n",
    "\n",
    "b. Percentage of Individuals using the Internet: \n",
    "http://data.un.org/Data.aspx?d=ITU&f=ind1Code%3aI99H \n",
    "• DO NOT APPLY ANY FILTERS \n",
    "• rename the file to internet_use.csv \n",
    "• open it with a text editor (not Excel) and take a look \n",
    "\n",
    "2. Create a Jupyter Notebook in the notebooks folder and name it UN_Data_Exploration.\n",
    "\n",
    "• You are likely to get errors along the way. When you do, read the errors to try to understand what is happening and how to correct it. \n",
    "• Use markdown cells to record your answers to any questions asked in this exercise. On the menu bar, you can toggle the cell type from ‘Code’ to ‘Markdown’. Here is a link to a cheat sheet showing the basics of styling text using Markdown."
   ]
  },
  {
   "cell_type": "code",
   "execution_count": 1,
   "metadata": {},
   "outputs": [],
   "source": [
    "### 3.Import packages\n",
    "import pandas as pd\n",
    "import numpy as np\n",
    "import matplotlib.pyplot as plt\n",
    "import seaborn as sns\n",
    "import scipy.stats as stats\n",
    "import statsmodels.api as sm\n",
    "\n",
    "### 4. plots show in the notebook without having to call plt.show() every time\n",
    "\n",
    "%matplotlib inline"
   ]
  },
  {
   "cell_type": "code",
   "execution_count": 2,
   "metadata": {},
   "outputs": [],
   "source": [
    "###5. Using the pandas read_csv() function, read the GDP dataset into your notebook as a DataFrame called gdp_df.\n",
    "gdp_df = pd.read_csv('../data/gdp_per_capita.csv')"
   ]
  },
  {
   "cell_type": "code",
   "execution_count": 3,
   "metadata": {},
   "outputs": [
    {
     "data": {
      "text/html": [
       "<div>\n",
       "<style scoped>\n",
       "    .dataframe tbody tr th:only-of-type {\n",
       "        vertical-align: middle;\n",
       "    }\n",
       "\n",
       "    .dataframe tbody tr th {\n",
       "        vertical-align: top;\n",
       "    }\n",
       "\n",
       "    .dataframe thead th {\n",
       "        text-align: right;\n",
       "    }\n",
       "</style>\n",
       "<table border=\"1\" class=\"dataframe\">\n",
       "  <thead>\n",
       "    <tr style=\"text-align: right;\">\n",
       "      <th></th>\n",
       "      <th>Country or Area</th>\n",
       "      <th>Year</th>\n",
       "      <th>Value</th>\n",
       "      <th>Value Footnotes</th>\n",
       "    </tr>\n",
       "  </thead>\n",
       "  <tbody>\n",
       "    <tr>\n",
       "      <th>0</th>\n",
       "      <td>Afghanistan</td>\n",
       "      <td>2018</td>\n",
       "      <td>1734.723214</td>\n",
       "      <td>NaN</td>\n",
       "    </tr>\n",
       "    <tr>\n",
       "      <th>1</th>\n",
       "      <td>Afghanistan</td>\n",
       "      <td>2017</td>\n",
       "      <td>1758.465636</td>\n",
       "      <td>NaN</td>\n",
       "    </tr>\n",
       "    <tr>\n",
       "      <th>2</th>\n",
       "      <td>Afghanistan</td>\n",
       "      <td>2016</td>\n",
       "      <td>1757.023490</td>\n",
       "      <td>NaN</td>\n",
       "    </tr>\n",
       "    <tr>\n",
       "      <th>3</th>\n",
       "      <td>Afghanistan</td>\n",
       "      <td>2015</td>\n",
       "      <td>1766.593077</td>\n",
       "      <td>NaN</td>\n",
       "    </tr>\n",
       "    <tr>\n",
       "      <th>4</th>\n",
       "      <td>Afghanistan</td>\n",
       "      <td>2014</td>\n",
       "      <td>1795.735834</td>\n",
       "      <td>NaN</td>\n",
       "    </tr>\n",
       "    <tr>\n",
       "      <th>5</th>\n",
       "      <td>Afghanistan</td>\n",
       "      <td>2013</td>\n",
       "      <td>1807.762344</td>\n",
       "      <td>NaN</td>\n",
       "    </tr>\n",
       "    <tr>\n",
       "      <th>6</th>\n",
       "      <td>Afghanistan</td>\n",
       "      <td>2012</td>\n",
       "      <td>1772.764974</td>\n",
       "      <td>NaN</td>\n",
       "    </tr>\n",
       "    <tr>\n",
       "      <th>7</th>\n",
       "      <td>Afghanistan</td>\n",
       "      <td>2011</td>\n",
       "      <td>1626.764793</td>\n",
       "      <td>NaN</td>\n",
       "    </tr>\n",
       "    <tr>\n",
       "      <th>8</th>\n",
       "      <td>Afghanistan</td>\n",
       "      <td>2010</td>\n",
       "      <td>1671.581238</td>\n",
       "      <td>NaN</td>\n",
       "    </tr>\n",
       "    <tr>\n",
       "      <th>9</th>\n",
       "      <td>Afghanistan</td>\n",
       "      <td>2009</td>\n",
       "      <td>1502.354073</td>\n",
       "      <td>NaN</td>\n",
       "    </tr>\n",
       "  </tbody>\n",
       "</table>\n",
       "</div>"
      ],
      "text/plain": [
       "  Country or Area  Year        Value  Value Footnotes\n",
       "0     Afghanistan  2018  1734.723214              NaN\n",
       "1     Afghanistan  2017  1758.465636              NaN\n",
       "2     Afghanistan  2016  1757.023490              NaN\n",
       "3     Afghanistan  2015  1766.593077              NaN\n",
       "4     Afghanistan  2014  1795.735834              NaN\n",
       "5     Afghanistan  2013  1807.762344              NaN\n",
       "6     Afghanistan  2012  1772.764974              NaN\n",
       "7     Afghanistan  2011  1626.764793              NaN\n",
       "8     Afghanistan  2010  1671.581238              NaN\n",
       "9     Afghanistan  2009  1502.354073              NaN"
      ]
     },
     "execution_count": 3,
     "metadata": {},
     "output_type": "execute_result"
    }
   ],
   "source": [
    "## Take a look at the first 10 rows.\n",
    "gdp_df.head(10)"
   ]
  },
  {
   "cell_type": "code",
   "execution_count": 4,
   "metadata": {},
   "outputs": [
    {
     "data": {
      "text/html": [
       "<div>\n",
       "<style scoped>\n",
       "    .dataframe tbody tr th:only-of-type {\n",
       "        vertical-align: middle;\n",
       "    }\n",
       "\n",
       "    .dataframe tbody tr th {\n",
       "        vertical-align: top;\n",
       "    }\n",
       "\n",
       "    .dataframe thead th {\n",
       "        text-align: right;\n",
       "    }\n",
       "</style>\n",
       "<table border=\"1\" class=\"dataframe\">\n",
       "  <thead>\n",
       "    <tr style=\"text-align: right;\">\n",
       "      <th></th>\n",
       "      <th>Country or Area</th>\n",
       "      <th>Year</th>\n",
       "      <th>Value</th>\n",
       "      <th>Value Footnotes</th>\n",
       "    </tr>\n",
       "  </thead>\n",
       "  <tbody>\n",
       "    <tr>\n",
       "      <th>6726</th>\n",
       "      <td>Zimbabwe</td>\n",
       "      <td>1992</td>\n",
       "      <td>2591.007534</td>\n",
       "      <td>NaN</td>\n",
       "    </tr>\n",
       "    <tr>\n",
       "      <th>6727</th>\n",
       "      <td>Zimbabwe</td>\n",
       "      <td>1991</td>\n",
       "      <td>2906.272849</td>\n",
       "      <td>NaN</td>\n",
       "    </tr>\n",
       "    <tr>\n",
       "      <th>6728</th>\n",
       "      <td>Zimbabwe</td>\n",
       "      <td>1990</td>\n",
       "      <td>2819.549467</td>\n",
       "      <td>NaN</td>\n",
       "    </tr>\n",
       "    <tr>\n",
       "      <th>6729</th>\n",
       "      <td>footnoteSeqID</td>\n",
       "      <td>Footnote</td>\n",
       "      <td>NaN</td>\n",
       "      <td>NaN</td>\n",
       "    </tr>\n",
       "    <tr>\n",
       "      <th>6730</th>\n",
       "      <td>2</td>\n",
       "      <td>Excludes South Sudan after July 9, 2011.</td>\n",
       "      <td>NaN</td>\n",
       "      <td>NaN</td>\n",
       "    </tr>\n",
       "  </tbody>\n",
       "</table>\n",
       "</div>"
      ],
      "text/plain": [
       "     Country or Area                                      Year        Value  \\\n",
       "6726        Zimbabwe                                      1992  2591.007534   \n",
       "6727        Zimbabwe                                      1991  2906.272849   \n",
       "6728        Zimbabwe                                      1990  2819.549467   \n",
       "6729   footnoteSeqID                                  Footnote          NaN   \n",
       "6730               2  Excludes South Sudan after July 9, 2011.          NaN   \n",
       "\n",
       "      Value Footnotes  \n",
       "6726              NaN  \n",
       "6727              NaN  \n",
       "6728              NaN  \n",
       "6729              NaN  \n",
       "6730              NaN  "
      ]
     },
     "execution_count": 4,
     "metadata": {},
     "output_type": "execute_result"
    }
   ],
   "source": [
    "## Look at the last 5 rows. Do you see a problem?\n",
    "gdp_df.tail(5)"
   ]
  },
  {
   "cell_type": "code",
   "execution_count": 5,
   "metadata": {},
   "outputs": [],
   "source": [
    "## Redo the read_csv() call to correct this issue - do not modify the original csv file.\n",
    "gdp_df = pd.read_csv('../data/gdp_per_capita.csv')[:-2]\n",
    "#gdp_df = gdp_df[:-2]"
   ]
  },
  {
   "cell_type": "code",
   "execution_count": 6,
   "metadata": {},
   "outputs": [
    {
     "data": {
      "text/html": [
       "<div>\n",
       "<style scoped>\n",
       "    .dataframe tbody tr th:only-of-type {\n",
       "        vertical-align: middle;\n",
       "    }\n",
       "\n",
       "    .dataframe tbody tr th {\n",
       "        vertical-align: top;\n",
       "    }\n",
       "\n",
       "    .dataframe thead th {\n",
       "        text-align: right;\n",
       "    }\n",
       "</style>\n",
       "<table border=\"1\" class=\"dataframe\">\n",
       "  <thead>\n",
       "    <tr style=\"text-align: right;\">\n",
       "      <th></th>\n",
       "      <th>Country or Area</th>\n",
       "      <th>Year</th>\n",
       "      <th>Value</th>\n",
       "      <th>Value Footnotes</th>\n",
       "    </tr>\n",
       "  </thead>\n",
       "  <tbody>\n",
       "    <tr>\n",
       "      <th>6724</th>\n",
       "      <td>Zimbabwe</td>\n",
       "      <td>1994</td>\n",
       "      <td>2768.309953</td>\n",
       "      <td>NaN</td>\n",
       "    </tr>\n",
       "    <tr>\n",
       "      <th>6725</th>\n",
       "      <td>Zimbabwe</td>\n",
       "      <td>1993</td>\n",
       "      <td>2572.870395</td>\n",
       "      <td>NaN</td>\n",
       "    </tr>\n",
       "    <tr>\n",
       "      <th>6726</th>\n",
       "      <td>Zimbabwe</td>\n",
       "      <td>1992</td>\n",
       "      <td>2591.007534</td>\n",
       "      <td>NaN</td>\n",
       "    </tr>\n",
       "    <tr>\n",
       "      <th>6727</th>\n",
       "      <td>Zimbabwe</td>\n",
       "      <td>1991</td>\n",
       "      <td>2906.272849</td>\n",
       "      <td>NaN</td>\n",
       "    </tr>\n",
       "    <tr>\n",
       "      <th>6728</th>\n",
       "      <td>Zimbabwe</td>\n",
       "      <td>1990</td>\n",
       "      <td>2819.549467</td>\n",
       "      <td>NaN</td>\n",
       "    </tr>\n",
       "  </tbody>\n",
       "</table>\n",
       "</div>"
      ],
      "text/plain": [
       "     Country or Area  Year        Value  Value Footnotes\n",
       "6724        Zimbabwe  1994  2768.309953              NaN\n",
       "6725        Zimbabwe  1993  2572.870395              NaN\n",
       "6726        Zimbabwe  1992  2591.007534              NaN\n",
       "6727        Zimbabwe  1991  2906.272849              NaN\n",
       "6728        Zimbabwe  1990  2819.549467              NaN"
      ]
     },
     "execution_count": 6,
     "metadata": {},
     "output_type": "execute_result"
    }
   ],
   "source": [
    "gdp_df.tail(5)"
   ]
  },
  {
   "cell_type": "code",
   "execution_count": 7,
   "metadata": {},
   "outputs": [
    {
     "data": {
      "text/html": [
       "<div>\n",
       "<style scoped>\n",
       "    .dataframe tbody tr th:only-of-type {\n",
       "        vertical-align: middle;\n",
       "    }\n",
       "\n",
       "    .dataframe tbody tr th {\n",
       "        vertical-align: top;\n",
       "    }\n",
       "\n",
       "    .dataframe thead th {\n",
       "        text-align: right;\n",
       "    }\n",
       "</style>\n",
       "<table border=\"1\" class=\"dataframe\">\n",
       "  <thead>\n",
       "    <tr style=\"text-align: right;\">\n",
       "      <th></th>\n",
       "      <th>Country or Area</th>\n",
       "      <th>Year</th>\n",
       "      <th>Value</th>\n",
       "    </tr>\n",
       "  </thead>\n",
       "  <tbody>\n",
       "    <tr>\n",
       "      <th>0</th>\n",
       "      <td>Afghanistan</td>\n",
       "      <td>2018</td>\n",
       "      <td>1734.723214</td>\n",
       "    </tr>\n",
       "    <tr>\n",
       "      <th>1</th>\n",
       "      <td>Afghanistan</td>\n",
       "      <td>2017</td>\n",
       "      <td>1758.465636</td>\n",
       "    </tr>\n",
       "    <tr>\n",
       "      <th>2</th>\n",
       "      <td>Afghanistan</td>\n",
       "      <td>2016</td>\n",
       "      <td>1757.023490</td>\n",
       "    </tr>\n",
       "    <tr>\n",
       "      <th>3</th>\n",
       "      <td>Afghanistan</td>\n",
       "      <td>2015</td>\n",
       "      <td>1766.593077</td>\n",
       "    </tr>\n",
       "    <tr>\n",
       "      <th>4</th>\n",
       "      <td>Afghanistan</td>\n",
       "      <td>2014</td>\n",
       "      <td>1795.735834</td>\n",
       "    </tr>\n",
       "  </tbody>\n",
       "</table>\n",
       "</div>"
      ],
      "text/plain": [
       "  Country or Area  Year        Value\n",
       "0     Afghanistan  2018  1734.723214\n",
       "1     Afghanistan  2017  1758.465636\n",
       "2     Afghanistan  2016  1757.023490\n",
       "3     Afghanistan  2015  1766.593077\n",
       "4     Afghanistan  2014  1795.735834"
      ]
     },
     "execution_count": 7,
     "metadata": {},
     "output_type": "execute_result"
    }
   ],
   "source": [
    "### 5. Drop the ‘Value Footnotes’ column (axis=1 for columns and axis=0 for rows)\n",
    "gdp_df =gdp_df.drop(['Value Footnotes'], axis=1)\n",
    "gdp_df.head(5)"
   ]
  },
  {
   "cell_type": "code",
   "execution_count": 8,
   "metadata": {},
   "outputs": [
    {
     "data": {
      "text/html": [
       "<div>\n",
       "<style scoped>\n",
       "    .dataframe tbody tr th:only-of-type {\n",
       "        vertical-align: middle;\n",
       "    }\n",
       "\n",
       "    .dataframe tbody tr th {\n",
       "        vertical-align: top;\n",
       "    }\n",
       "\n",
       "    .dataframe thead th {\n",
       "        text-align: right;\n",
       "    }\n",
       "</style>\n",
       "<table border=\"1\" class=\"dataframe\">\n",
       "  <thead>\n",
       "    <tr style=\"text-align: right;\">\n",
       "      <th></th>\n",
       "      <th>Country</th>\n",
       "      <th>Year</th>\n",
       "      <th>GDP_Per_Capita</th>\n",
       "    </tr>\n",
       "  </thead>\n",
       "  <tbody>\n",
       "    <tr>\n",
       "      <th>0</th>\n",
       "      <td>Afghanistan</td>\n",
       "      <td>2018</td>\n",
       "      <td>1734.723214</td>\n",
       "    </tr>\n",
       "    <tr>\n",
       "      <th>1</th>\n",
       "      <td>Afghanistan</td>\n",
       "      <td>2017</td>\n",
       "      <td>1758.465636</td>\n",
       "    </tr>\n",
       "    <tr>\n",
       "      <th>2</th>\n",
       "      <td>Afghanistan</td>\n",
       "      <td>2016</td>\n",
       "      <td>1757.023490</td>\n",
       "    </tr>\n",
       "    <tr>\n",
       "      <th>3</th>\n",
       "      <td>Afghanistan</td>\n",
       "      <td>2015</td>\n",
       "      <td>1766.593077</td>\n",
       "    </tr>\n",
       "    <tr>\n",
       "      <th>4</th>\n",
       "      <td>Afghanistan</td>\n",
       "      <td>2014</td>\n",
       "      <td>1795.735834</td>\n",
       "    </tr>\n",
       "  </tbody>\n",
       "</table>\n",
       "</div>"
      ],
      "text/plain": [
       "       Country  Year  GDP_Per_Capita\n",
       "0  Afghanistan  2018     1734.723214\n",
       "1  Afghanistan  2017     1758.465636\n",
       "2  Afghanistan  2016     1757.023490\n",
       "3  Afghanistan  2015     1766.593077\n",
       "4  Afghanistan  2014     1795.735834"
      ]
     },
     "execution_count": 8,
     "metadata": {},
     "output_type": "execute_result"
    }
   ],
   "source": [
    "## 6. and rename the remaining columns to ‘Country’, ‘Year’, and ‘GDP_Per_Capita’.\n",
    "gdp_df.rename(columns = {'Country or Area':'Country', 'Year':'Year', 'Value':'GDP_Per_Capita'}, inplace = True)\n",
    "gdp_df.head(5)"
   ]
  },
  {
   "cell_type": "code",
   "execution_count": 9,
   "metadata": {},
   "outputs": [
    {
     "data": {
      "text/plain": [
       "(6729, 3)"
      ]
     },
     "execution_count": 9,
     "metadata": {},
     "output_type": "execute_result"
    }
   ],
   "source": [
    "### 7. How many rows and columns does gdp_df have?\n",
    "gdp_df.shape"
   ]
  },
  {
   "cell_type": "code",
   "execution_count": 62,
   "metadata": {},
   "outputs": [
    {
     "name": "stdout",
     "output_type": "stream",
     "text": [
      "<class 'pandas.core.frame.DataFrame'>\n",
      "RangeIndex: 6729 entries, 0 to 6728\n",
      "Data columns (total 3 columns):\n",
      "Country           6729 non-null object\n",
      "Year              6729 non-null int64\n",
      "GDP_Per_Capita    6729 non-null float64\n",
      "dtypes: float64(1), int64(1), object(1)\n",
      "memory usage: 157.8+ KB\n"
     ]
    }
   ],
   "source": [
    "gdp_df.info()"
   ]
  },
  {
   "cell_type": "code",
   "execution_count": 10,
   "metadata": {},
   "outputs": [
    {
     "data": {
      "text/plain": [
       "Country            object\n",
       "Year               object\n",
       "GDP_Per_Capita    float64\n",
       "dtype: object"
      ]
     },
     "execution_count": 10,
     "metadata": {},
     "output_type": "execute_result"
    }
   ],
   "source": [
    "## What are the data types of its columns?\n",
    "gdp_df.dtypes"
   ]
  },
  {
   "cell_type": "code",
   "execution_count": 11,
   "metadata": {},
   "outputs": [],
   "source": [
    "## If any of the columns are not the expected types, figure out why and fix it.\n",
    "gdp_df['Year'] = pd.to_numeric(gdp_df['Year'])"
   ]
  },
  {
   "cell_type": "code",
   "execution_count": 12,
   "metadata": {},
   "outputs": [
    {
     "data": {
      "text/plain": [
       "Country            object\n",
       "Year                int64\n",
       "GDP_Per_Capita    float64\n",
       "dtype: object"
      ]
     },
     "execution_count": 12,
     "metadata": {},
     "output_type": "execute_result"
    }
   ],
   "source": [
    "gdp_df.dtypes"
   ]
  },
  {
   "cell_type": "code",
   "execution_count": 13,
   "metadata": {
    "scrolled": true
   },
   "outputs": [
    {
     "data": {
      "text/plain": [
       "1990    210\n",
       "1991    211\n",
       "1992    213\n",
       "1993    215\n",
       "1994    218\n",
       "1995    224\n",
       "1996    224\n",
       "1997    226\n",
       "1998    227\n",
       "1999    228\n",
       "2000    236\n",
       "2001    237\n",
       "2002    238\n",
       "2003    238\n",
       "2004    238\n",
       "2005    238\n",
       "2006    238\n",
       "2007    239\n",
       "2008    240\n",
       "2009    241\n",
       "2010    241\n",
       "2011    243\n",
       "2012    241\n",
       "2013    241\n",
       "2014    240\n",
       "2015    240\n",
       "2016    239\n",
       "2017    239\n",
       "2018    226\n",
       "Name: Year, dtype: int64"
      ]
     },
     "execution_count": 13,
     "metadata": {},
     "output_type": "execute_result"
    }
   ],
   "source": [
    "### 8. Which years are represented in this dataset? Take a look at the number of observations per year. What do you notice?\n",
    "gdp_df['Year'].value_counts().sort_index()"
   ]
  },
  {
   "cell_type": "markdown",
   "metadata": {},
   "source": [
    "Years goes from 1990 to 2018 and the number of observations per year are not the same and range from 210 to 243."
   ]
  },
  {
   "cell_type": "code",
   "execution_count": 19,
   "metadata": {},
   "outputs": [
    {
     "data": {
      "text/plain": [
       "Eswatini                                             29\n",
       "Ethiopia                                             29\n",
       "Venezuela                                            29\n",
       "IDA blend                                            29\n",
       "Malawi                                               29\n",
       "The Bahamas                                          29\n",
       "Honduras                                             29\n",
       "Papua New Guinea                                     29\n",
       "Sierra Leone                                         29\n",
       "Namibia                                              29\n",
       "Rwanda                                               29\n",
       "Uruguay                                              29\n",
       "Georgia                                              29\n",
       "Cameroon                                             29\n",
       "Belgium                                              29\n",
       "Europe & Central Asia (IDA & IBRD)                   29\n",
       "Congo                                                29\n",
       "Angola                                               29\n",
       "Lower middle income                                  29\n",
       "Peru                                                 29\n",
       "Latin America & Caribbean (excluding high income)    29\n",
       "Antigua and Barbuda                                  29\n",
       "Solomon Islands                                      29\n",
       "Greece                                               29\n",
       "Zimbabwe                                             29\n",
       "Low income                                           29\n",
       "Indonesia                                            29\n",
       "Sri Lanka                                            29\n",
       "Samoa                                                29\n",
       "Caribbean small states                               29\n",
       "                                                     ..\n",
       "Bosnia and Herzegovina                               25\n",
       "Latvia                                               25\n",
       "West Bank and Gaza                                   25\n",
       "Kuwait                                               24\n",
       "Serbia                                               24\n",
       "Bermuda                                              24\n",
       "Moldova                                              24\n",
       "Lithuania                                            24\n",
       "Croatia                                              24\n",
       "Maldives                                             24\n",
       "Montenegro                                           22\n",
       "San Marino                                           21\n",
       "Cayman Islands                                       20\n",
       "Eritrea                                              20\n",
       "Libya                                                20\n",
       "CuraÃ§ao                                             19\n",
       "Qatar                                                19\n",
       "Small states                                         19\n",
       "Liberia                                              19\n",
       "Timor-Leste                                          19\n",
       "Kosovo                                               19\n",
       "Palau                                                19\n",
       "Other small states                                   19\n",
       "SÃ£o TomÃ© and Principe                              18\n",
       "Afghanistan                                          17\n",
       "Nauru                                                12\n",
       "Sint Maarten (Dutch part)                             9\n",
       "Turks and Caicos Islands                              8\n",
       "South Sudan                                           8\n",
       "Djibouti                                              1\n",
       "Name: Country, Length: 243, dtype: int64"
      ]
     },
     "execution_count": 19,
     "metadata": {},
     "output_type": "execute_result"
    }
   ],
   "source": [
    "### 9. How many countries are represented in this dataset? Which countries are least represented in the dataset? Why do you think these countries have so few observations?\n",
    "gdp_df['Country'].value_counts()"
   ]
  },
  {
   "cell_type": "markdown",
   "metadata": {},
   "source": [
    "There is 243 different countries represented in this dataset and the least represented are Djibouti, South Sudan, Turks and caicos Islands and Sint Maaten. These 4 last are less represented which means several GDP per capita per years are missing from these countries. For example Djibouti gave only one and from question 8. I can say the year given was 2011.\n"
   ]
  },
  {
   "cell_type": "code",
   "execution_count": 26,
   "metadata": {},
   "outputs": [],
   "source": [
    "### 10. Create a new dataframe by subsetting gdp_df to just the year 2014. Call this new dataframe gdp_2014.\n",
    "gdp_2014 = gdp_df.loc[gdp_df['Year'] == 2014]"
   ]
  },
  {
   "cell_type": "code",
   "execution_count": 27,
   "metadata": {},
   "outputs": [
    {
     "data": {
      "text/html": [
       "<div>\n",
       "<style scoped>\n",
       "    .dataframe tbody tr th:only-of-type {\n",
       "        vertical-align: middle;\n",
       "    }\n",
       "\n",
       "    .dataframe tbody tr th {\n",
       "        vertical-align: top;\n",
       "    }\n",
       "\n",
       "    .dataframe thead th {\n",
       "        text-align: right;\n",
       "    }\n",
       "</style>\n",
       "<table border=\"1\" class=\"dataframe\">\n",
       "  <thead>\n",
       "    <tr style=\"text-align: right;\">\n",
       "      <th></th>\n",
       "      <th>Country</th>\n",
       "      <th>Year</th>\n",
       "      <th>GDP_Per_Capita</th>\n",
       "    </tr>\n",
       "  </thead>\n",
       "  <tbody>\n",
       "    <tr>\n",
       "      <th>4</th>\n",
       "      <td>Afghanistan</td>\n",
       "      <td>2014</td>\n",
       "      <td>1795.735834</td>\n",
       "    </tr>\n",
       "    <tr>\n",
       "      <th>21</th>\n",
       "      <td>Albania</td>\n",
       "      <td>2014</td>\n",
       "      <td>10700.993216</td>\n",
       "    </tr>\n",
       "    <tr>\n",
       "      <th>50</th>\n",
       "      <td>Algeria</td>\n",
       "      <td>2014</td>\n",
       "      <td>13557.769757</td>\n",
       "    </tr>\n",
       "    <tr>\n",
       "      <th>79</th>\n",
       "      <td>Angola</td>\n",
       "      <td>2014</td>\n",
       "      <td>6813.052106</td>\n",
       "    </tr>\n",
       "    <tr>\n",
       "      <th>108</th>\n",
       "      <td>Antigua and Barbuda</td>\n",
       "      <td>2014</td>\n",
       "      <td>20440.540555</td>\n",
       "    </tr>\n",
       "  </tbody>\n",
       "</table>\n",
       "</div>"
      ],
      "text/plain": [
       "                 Country  Year  GDP_Per_Capita\n",
       "4            Afghanistan  2014     1795.735834\n",
       "21               Albania  2014    10700.993216\n",
       "50               Algeria  2014    13557.769757\n",
       "79                Angola  2014     6813.052106\n",
       "108  Antigua and Barbuda  2014    20440.540555"
      ]
     },
     "execution_count": 27,
     "metadata": {},
     "output_type": "execute_result"
    }
   ],
   "source": [
    "gdp_2014.head()"
   ]
  },
  {
   "cell_type": "code",
   "execution_count": 28,
   "metadata": {},
   "outputs": [
    {
     "data": {
      "text/html": [
       "<div>\n",
       "<style scoped>\n",
       "    .dataframe tbody tr th:only-of-type {\n",
       "        vertical-align: middle;\n",
       "    }\n",
       "\n",
       "    .dataframe tbody tr th {\n",
       "        vertical-align: top;\n",
       "    }\n",
       "\n",
       "    .dataframe thead th {\n",
       "        text-align: right;\n",
       "    }\n",
       "</style>\n",
       "<table border=\"1\" class=\"dataframe\">\n",
       "  <thead>\n",
       "    <tr style=\"text-align: right;\">\n",
       "      <th></th>\n",
       "      <th>Year</th>\n",
       "      <th>GDP_Per_Capita</th>\n",
       "    </tr>\n",
       "  </thead>\n",
       "  <tbody>\n",
       "    <tr>\n",
       "      <th>count</th>\n",
       "      <td>240.0</td>\n",
       "      <td>240.000000</td>\n",
       "    </tr>\n",
       "    <tr>\n",
       "      <th>mean</th>\n",
       "      <td>2014.0</td>\n",
       "      <td>18034.303556</td>\n",
       "    </tr>\n",
       "    <tr>\n",
       "      <th>std</th>\n",
       "      <td>0.0</td>\n",
       "      <td>19320.930599</td>\n",
       "    </tr>\n",
       "    <tr>\n",
       "      <th>min</th>\n",
       "      <td>2014.0</td>\n",
       "      <td>672.681648</td>\n",
       "    </tr>\n",
       "    <tr>\n",
       "      <th>25%</th>\n",
       "      <td>2014.0</td>\n",
       "      <td>4301.187365</td>\n",
       "    </tr>\n",
       "    <tr>\n",
       "      <th>50%</th>\n",
       "      <td>2014.0</td>\n",
       "      <td>11868.067810</td>\n",
       "    </tr>\n",
       "    <tr>\n",
       "      <th>75%</th>\n",
       "      <td>2014.0</td>\n",
       "      <td>24388.408410</td>\n",
       "    </tr>\n",
       "    <tr>\n",
       "      <th>max</th>\n",
       "      <td>2014.0</td>\n",
       "      <td>130439.106674</td>\n",
       "    </tr>\n",
       "  </tbody>\n",
       "</table>\n",
       "</div>"
      ],
      "text/plain": [
       "         Year  GDP_Per_Capita\n",
       "count   240.0      240.000000\n",
       "mean   2014.0    18034.303556\n",
       "std       0.0    19320.930599\n",
       "min    2014.0      672.681648\n",
       "25%    2014.0     4301.187365\n",
       "50%    2014.0    11868.067810\n",
       "75%    2014.0    24388.408410\n",
       "max    2014.0   130439.106674"
      ]
     },
     "execution_count": 28,
     "metadata": {},
     "output_type": "execute_result"
    }
   ],
   "source": [
    "### 11. Use .describe() to find the summary statistics for GDP per capita in 2014.\n",
    "gdp_2014.describe()"
   ]
  },
  {
   "cell_type": "code",
   "execution_count": 63,
   "metadata": {},
   "outputs": [
    {
     "data": {
      "text/plain": [
       "<matplotlib.axes._subplots.AxesSubplot at 0x7fac935c7828>"
      ]
     },
     "execution_count": 63,
     "metadata": {},
     "output_type": "execute_result"
    },
    {
     "data": {
      "image/png": "[encoded data removed]",
      "text/plain": [
       "<Figure size 432x288 with 1 Axes>"
      ]
     },
     "metadata": {
      "needs_background": "light"
     },
     "output_type": "display_data"
    }
   ],
   "source": [
    "### 12. Create a histogram of GDP Per Capita numbers for 2014 (you may wish to adjust the number of bins for your histogram). How would you describe the shape of the distribution?\n",
    "#gdp_2014.hist(column='GDP_Per_Capita', bins=15)\n",
    "gdp_2014.GDP_Per_Capita.hist(bins=15)"
   ]
  },
  {
   "cell_type": "markdown",
   "metadata": {},
   "source": [
    "The distribution is skewed to the right. The majority of the data is found between 0 and 20,000. After 20,000 there is less and less values and there is some ouliers around 120,000."
   ]
  },
  {
   "cell_type": "code",
   "execution_count": 40,
   "metadata": {},
   "outputs": [
    {
     "data": {
      "text/html": [
       "<div>\n",
       "<style scoped>\n",
       "    .dataframe tbody tr th:only-of-type {\n",
       "        vertical-align: middle;\n",
       "    }\n",
       "\n",
       "    .dataframe tbody tr th {\n",
       "        vertical-align: top;\n",
       "    }\n",
       "\n",
       "    .dataframe thead th {\n",
       "        text-align: right;\n",
       "    }\n",
       "</style>\n",
       "<table border=\"1\" class=\"dataframe\">\n",
       "  <thead>\n",
       "    <tr style=\"text-align: right;\">\n",
       "      <th></th>\n",
       "      <th>Country</th>\n",
       "      <th>Year</th>\n",
       "      <th>GDP_Per_Capita</th>\n",
       "    </tr>\n",
       "  </thead>\n",
       "  <tbody>\n",
       "    <tr>\n",
       "      <th>3639</th>\n",
       "      <td>Macao SAR, China</td>\n",
       "      <td>2014</td>\n",
       "      <td>130439.106674</td>\n",
       "    </tr>\n",
       "    <tr>\n",
       "      <th>5003</th>\n",
       "      <td>Qatar</td>\n",
       "      <td>2014</td>\n",
       "      <td>116693.507701</td>\n",
       "    </tr>\n",
       "    <tr>\n",
       "      <th>3610</th>\n",
       "      <td>Luxembourg</td>\n",
       "      <td>2014</td>\n",
       "      <td>92349.186429</td>\n",
       "    </tr>\n",
       "    <tr>\n",
       "      <th>5316</th>\n",
       "      <td>Singapore</td>\n",
       "      <td>2014</td>\n",
       "      <td>81965.361071</td>\n",
       "    </tr>\n",
       "    <tr>\n",
       "      <th>707</th>\n",
       "      <td>Brunei</td>\n",
       "      <td>2014</td>\n",
       "      <td>76448.593329</td>\n",
       "    </tr>\n",
       "  </tbody>\n",
       "</table>\n",
       "</div>"
      ],
      "text/plain": [
       "               Country  Year  GDP_Per_Capita\n",
       "3639  Macao SAR, China  2014   130439.106674\n",
       "5003             Qatar  2014   116693.507701\n",
       "3610        Luxembourg  2014    92349.186429\n",
       "5316         Singapore  2014    81965.361071\n",
       "707             Brunei  2014    76448.593329"
      ]
     },
     "execution_count": 40,
     "metadata": {},
     "output_type": "execute_result"
    }
   ],
   "source": [
    "###13. Find the top 5 counties and bottom 5 countries by GDP per capita in 2014.\n",
    "gdp_2014_up = gdp_2014.sort_values('GDP_Per_Capita', axis=0, ascending = False)\n",
    "gdp_2014_up.head(5)"
   ]
  },
  {
   "cell_type": "code",
   "execution_count": 42,
   "metadata": {},
   "outputs": [
    {
     "data": {
      "text/html": [
       "<div>\n",
       "<style scoped>\n",
       "    .dataframe tbody tr th:only-of-type {\n",
       "        vertical-align: middle;\n",
       "    }\n",
       "\n",
       "    .dataframe tbody tr th {\n",
       "        vertical-align: top;\n",
       "    }\n",
       "\n",
       "    .dataframe thead th {\n",
       "        text-align: right;\n",
       "    }\n",
       "</style>\n",
       "<table border=\"1\" class=\"dataframe\">\n",
       "  <thead>\n",
       "    <tr style=\"text-align: right;\">\n",
       "      <th></th>\n",
       "      <th>Country</th>\n",
       "      <th>Year</th>\n",
       "      <th>GDP_Per_Capita</th>\n",
       "    </tr>\n",
       "  </thead>\n",
       "  <tbody>\n",
       "    <tr>\n",
       "      <th>1014</th>\n",
       "      <td>Central African Republic</td>\n",
       "      <td>2014</td>\n",
       "      <td>672.681648</td>\n",
       "    </tr>\n",
       "    <tr>\n",
       "      <th>794</th>\n",
       "      <td>Burundi</td>\n",
       "      <td>2014</td>\n",
       "      <td>768.469837</td>\n",
       "    </tr>\n",
       "    <tr>\n",
       "      <th>1375</th>\n",
       "      <td>Dem. Rep. Congo</td>\n",
       "      <td>2014</td>\n",
       "      <td>784.872656</td>\n",
       "    </tr>\n",
       "    <tr>\n",
       "      <th>4414</th>\n",
       "      <td>Niger</td>\n",
       "      <td>2014</td>\n",
       "      <td>900.136918</td>\n",
       "    </tr>\n",
       "    <tr>\n",
       "      <th>3697</th>\n",
       "      <td>Malawi</td>\n",
       "      <td>2014</td>\n",
       "      <td>1142.530804</td>\n",
       "    </tr>\n",
       "  </tbody>\n",
       "</table>\n",
       "</div>"
      ],
      "text/plain": [
       "                       Country  Year  GDP_Per_Capita\n",
       "1014  Central African Republic  2014      672.681648\n",
       "794                    Burundi  2014      768.469837\n",
       "1375           Dem. Rep. Congo  2014      784.872656\n",
       "4414                     Niger  2014      900.136918\n",
       "3697                    Malawi  2014     1142.530804"
      ]
     },
     "execution_count": 42,
     "metadata": {},
     "output_type": "execute_result"
    }
   ],
   "source": [
    "gdp_2014_down = gdp_2014.sort_values('GDP_Per_Capita', axis=0, ascending = True)\n",
    "gdp_2014_down.head(5)"
   ]
  },
  {
   "cell_type": "markdown",
   "metadata": {},
   "source": [
    "14. Now, return to the full dataset, gdp_df. Pivot the data for 1990 and 2017 (using the pandas .pivot_table() method or another method) so that each row corresponds to a country, each column corresponds to a year, and the values in the table give the GDP_Per_Capita amount. Drop any rows that are missing values for either 1990 or 2017. Save the result to a dataframe named gdp_pivoted."
   ]
  },
  {
   "cell_type": "code",
   "execution_count": 70,
   "metadata": {},
   "outputs": [],
   "source": [
    "gdp_pivoted = gdp_df[(gdp_df['Year'] == 1990) |\n",
    "                    (gdp_df['Year'] == 2017)].pivot_table(values = 'GDP_Per_Capita', index = 'Country', columns= 'Year').dropna()"
   ]
  },
  {
   "cell_type": "code",
   "execution_count": 71,
   "metadata": {},
   "outputs": [
    {
     "data": {
      "text/html": [
       "<div>\n",
       "<style scoped>\n",
       "    .dataframe tbody tr th:only-of-type {\n",
       "        vertical-align: middle;\n",
       "    }\n",
       "\n",
       "    .dataframe tbody tr th {\n",
       "        vertical-align: top;\n",
       "    }\n",
       "\n",
       "    .dataframe thead th {\n",
       "        text-align: right;\n",
       "    }\n",
       "</style>\n",
       "<table border=\"1\" class=\"dataframe\">\n",
       "  <thead>\n",
       "    <tr style=\"text-align: right;\">\n",
       "      <th>Year</th>\n",
       "      <th>1990</th>\n",
       "      <th>2017</th>\n",
       "    </tr>\n",
       "    <tr>\n",
       "      <th>Country</th>\n",
       "      <th></th>\n",
       "      <th></th>\n",
       "    </tr>\n",
       "  </thead>\n",
       "  <tbody>\n",
       "    <tr>\n",
       "      <th>Albania</th>\n",
       "      <td>4458.247115</td>\n",
       "      <td>11796.719185</td>\n",
       "    </tr>\n",
       "    <tr>\n",
       "      <th>Algeria</th>\n",
       "      <td>10300.015042</td>\n",
       "      <td>13822.389087</td>\n",
       "    </tr>\n",
       "    <tr>\n",
       "      <th>Angola</th>\n",
       "      <td>4761.229638</td>\n",
       "      <td>6044.972035</td>\n",
       "    </tr>\n",
       "    <tr>\n",
       "      <th>Antigua and Barbuda</th>\n",
       "      <td>17454.549799</td>\n",
       "      <td>22400.379562</td>\n",
       "    </tr>\n",
       "    <tr>\n",
       "      <th>Arab World</th>\n",
       "      <td>10491.507721</td>\n",
       "      <td>15542.746104</td>\n",
       "    </tr>\n",
       "  </tbody>\n",
       "</table>\n",
       "</div>"
      ],
      "text/plain": [
       "Year                         1990          2017\n",
       "Country                                        \n",
       "Albania               4458.247115  11796.719185\n",
       "Algeria              10300.015042  13822.389087\n",
       "Angola                4761.229638   6044.972035\n",
       "Antigua and Barbuda  17454.549799  22400.379562\n",
       "Arab World           10491.507721  15542.746104"
      ]
     },
     "execution_count": 71,
     "metadata": {},
     "output_type": "execute_result"
    }
   ],
   "source": [
    "gdp_pivoted.head()"
   ]
  },
  {
   "cell_type": "markdown",
   "metadata": {},
   "source": [
    "15. Create a new column in gdp_pivoted named Percent_Change. This column should contain the percent change in GDP_Per_Capita from 1990 to 2017. Hint: Percent change is calculated as 100*(New Value - Old Value) / Old Value."
   ]
  },
  {
   "cell_type": "code",
   "execution_count": 72,
   "metadata": {},
   "outputs": [],
   "source": [
    "gdp_pivoted['Percent_Change'] = 100*(gdp_pivoted[2017] - gdp_pivoted[1990])/gdp_pivoted[1990]"
   ]
  },
  {
   "cell_type": "code",
   "execution_count": 73,
   "metadata": {},
   "outputs": [
    {
     "data": {
      "text/html": [
       "<div>\n",
       "<style scoped>\n",
       "    .dataframe tbody tr th:only-of-type {\n",
       "        vertical-align: middle;\n",
       "    }\n",
       "\n",
       "    .dataframe tbody tr th {\n",
       "        vertical-align: top;\n",
       "    }\n",
       "\n",
       "    .dataframe thead th {\n",
       "        text-align: right;\n",
       "    }\n",
       "</style>\n",
       "<table border=\"1\" class=\"dataframe\">\n",
       "  <thead>\n",
       "    <tr style=\"text-align: right;\">\n",
       "      <th>Year</th>\n",
       "      <th>1990</th>\n",
       "      <th>2017</th>\n",
       "      <th>Percent_Change</th>\n",
       "    </tr>\n",
       "    <tr>\n",
       "      <th>Country</th>\n",
       "      <th></th>\n",
       "      <th></th>\n",
       "      <th></th>\n",
       "    </tr>\n",
       "  </thead>\n",
       "  <tbody>\n",
       "    <tr>\n",
       "      <th>Albania</th>\n",
       "      <td>4458.247115</td>\n",
       "      <td>11796.719185</td>\n",
       "      <td>164.604426</td>\n",
       "    </tr>\n",
       "    <tr>\n",
       "      <th>Algeria</th>\n",
       "      <td>10300.015042</td>\n",
       "      <td>13822.389087</td>\n",
       "      <td>34.197756</td>\n",
       "    </tr>\n",
       "    <tr>\n",
       "      <th>Angola</th>\n",
       "      <td>4761.229638</td>\n",
       "      <td>6044.972035</td>\n",
       "      <td>26.962413</td>\n",
       "    </tr>\n",
       "    <tr>\n",
       "      <th>Antigua and Barbuda</th>\n",
       "      <td>17454.549799</td>\n",
       "      <td>22400.379562</td>\n",
       "      <td>28.335476</td>\n",
       "    </tr>\n",
       "    <tr>\n",
       "      <th>Arab World</th>\n",
       "      <td>10491.507721</td>\n",
       "      <td>15542.746104</td>\n",
       "      <td>48.145972</td>\n",
       "    </tr>\n",
       "  </tbody>\n",
       "</table>\n",
       "</div>"
      ],
      "text/plain": [
       "Year                         1990          2017  Percent_Change\n",
       "Country                                                        \n",
       "Albania               4458.247115  11796.719185      164.604426\n",
       "Algeria              10300.015042  13822.389087       34.197756\n",
       "Angola                4761.229638   6044.972035       26.962413\n",
       "Antigua and Barbuda  17454.549799  22400.379562       28.335476\n",
       "Arab World           10491.507721  15542.746104       48.145972"
      ]
     },
     "execution_count": 73,
     "metadata": {},
     "output_type": "execute_result"
    }
   ],
   "source": [
    "gdp_pivoted.head()"
   ]
  },
  {
   "cell_type": "markdown",
   "metadata": {},
   "source": [
    "16. How many countries experienced a negative percent change in GDP per capita from 1990 to 2017?"
   ]
  },
  {
   "cell_type": "code",
   "execution_count": 89,
   "metadata": {},
   "outputs": [
    {
     "data": {
      "text/html": [
       "<div>\n",
       "<style scoped>\n",
       "    .dataframe tbody tr th:only-of-type {\n",
       "        vertical-align: middle;\n",
       "    }\n",
       "\n",
       "    .dataframe tbody tr th {\n",
       "        vertical-align: top;\n",
       "    }\n",
       "\n",
       "    .dataframe thead th {\n",
       "        text-align: right;\n",
       "    }\n",
       "</style>\n",
       "<table border=\"1\" class=\"dataframe\">\n",
       "  <thead>\n",
       "    <tr style=\"text-align: right;\">\n",
       "      <th>Year</th>\n",
       "      <th>1990</th>\n",
       "      <th>2017</th>\n",
       "      <th>Percent_Change</th>\n",
       "    </tr>\n",
       "    <tr>\n",
       "      <th>Country</th>\n",
       "      <th></th>\n",
       "      <th></th>\n",
       "      <th></th>\n",
       "    </tr>\n",
       "  </thead>\n",
       "  <tbody>\n",
       "    <tr>\n",
       "      <th>Comoros</th>\n",
       "      <td>2580.500555</td>\n",
       "      <td>2555.966364</td>\n",
       "      <td>-0.950753</td>\n",
       "    </tr>\n",
       "    <tr>\n",
       "      <th>Kyrgyz Republic</th>\n",
       "      <td>3474.667969</td>\n",
       "      <td>3393.617990</td>\n",
       "      <td>-2.332596</td>\n",
       "    </tr>\n",
       "    <tr>\n",
       "      <th>Aruba</th>\n",
       "      <td>37140.024657</td>\n",
       "      <td>35861.828118</td>\n",
       "      <td>-3.441561</td>\n",
       "    </tr>\n",
       "    <tr>\n",
       "      <th>Guinea-Bissau</th>\n",
       "      <td>1633.612989</td>\n",
       "      <td>1576.748994</td>\n",
       "      <td>-3.480873</td>\n",
       "    </tr>\n",
       "    <tr>\n",
       "      <th>Congo</th>\n",
       "      <td>5323.022707</td>\n",
       "      <td>5103.142821</td>\n",
       "      <td>-4.130734</td>\n",
       "    </tr>\n",
       "    <tr>\n",
       "      <th>The Gambia</th>\n",
       "      <td>2448.493198</td>\n",
       "      <td>2240.327478</td>\n",
       "      <td>-8.501789</td>\n",
       "    </tr>\n",
       "    <tr>\n",
       "      <th>The Bahamas</th>\n",
       "      <td>31005.636485</td>\n",
       "      <td>28318.107428</td>\n",
       "      <td>-8.667873</td>\n",
       "    </tr>\n",
       "    <tr>\n",
       "      <th>Zimbabwe</th>\n",
       "      <td>2819.549467</td>\n",
       "      <td>2568.410072</td>\n",
       "      <td>-8.907075</td>\n",
       "    </tr>\n",
       "    <tr>\n",
       "      <th>Brunei</th>\n",
       "      <td>84693.336970</td>\n",
       "      <td>72523.729446</td>\n",
       "      <td>-14.369026</td>\n",
       "    </tr>\n",
       "    <tr>\n",
       "      <th>Madagascar</th>\n",
       "      <td>1928.012284</td>\n",
       "      <td>1648.373871</td>\n",
       "      <td>-14.503975</td>\n",
       "    </tr>\n",
       "    <tr>\n",
       "      <th>Gabon</th>\n",
       "      <td>19556.665840</td>\n",
       "      <td>16144.935297</td>\n",
       "      <td>-17.445359</td>\n",
       "    </tr>\n",
       "    <tr>\n",
       "      <th>Haiti</th>\n",
       "      <td>2061.842854</td>\n",
       "      <td>1653.001460</td>\n",
       "      <td>-19.828931</td>\n",
       "    </tr>\n",
       "    <tr>\n",
       "      <th>Tajikistan</th>\n",
       "      <td>3661.340213</td>\n",
       "      <td>2923.673718</td>\n",
       "      <td>-20.147445</td>\n",
       "    </tr>\n",
       "    <tr>\n",
       "      <th>Venezuela</th>\n",
       "      <td>14619.454190</td>\n",
       "      <td>11489.648818</td>\n",
       "      <td>-21.408497</td>\n",
       "    </tr>\n",
       "    <tr>\n",
       "      <th>Central African Republic</th>\n",
       "      <td>982.659793</td>\n",
       "      <td>746.434942</td>\n",
       "      <td>-24.039332</td>\n",
       "    </tr>\n",
       "    <tr>\n",
       "      <th>Ukraine</th>\n",
       "      <td>10463.959955</td>\n",
       "      <td>7906.540301</td>\n",
       "      <td>-24.440266</td>\n",
       "    </tr>\n",
       "    <tr>\n",
       "      <th>Yemen</th>\n",
       "      <td>3425.707169</td>\n",
       "      <td>2404.422370</td>\n",
       "      <td>-29.812379</td>\n",
       "    </tr>\n",
       "    <tr>\n",
       "      <th>Burundi</th>\n",
       "      <td>1027.396660</td>\n",
       "      <td>670.777072</td>\n",
       "      <td>-34.710993</td>\n",
       "    </tr>\n",
       "    <tr>\n",
       "      <th>United Arab Emirates</th>\n",
       "      <td>112349.597967</td>\n",
       "      <td>66477.818719</td>\n",
       "      <td>-40.829500</td>\n",
       "    </tr>\n",
       "    <tr>\n",
       "      <th>Dem. Rep. Congo</th>\n",
       "      <td>1386.933242</td>\n",
       "      <td>807.752905</td>\n",
       "      <td>-41.759785</td>\n",
       "    </tr>\n",
       "  </tbody>\n",
       "</table>\n",
       "</div>"
      ],
      "text/plain": [
       "Year                               1990          2017  Percent_Change\n",
       "Country                                                              \n",
       "Comoros                     2580.500555   2555.966364       -0.950753\n",
       "Kyrgyz Republic             3474.667969   3393.617990       -2.332596\n",
       "Aruba                      37140.024657  35861.828118       -3.441561\n",
       "Guinea-Bissau               1633.612989   1576.748994       -3.480873\n",
       "Congo                       5323.022707   5103.142821       -4.130734\n",
       "The Gambia                  2448.493198   2240.327478       -8.501789\n",
       "The Bahamas                31005.636485  28318.107428       -8.667873\n",
       "Zimbabwe                    2819.549467   2568.410072       -8.907075\n",
       "Brunei                     84693.336970  72523.729446      -14.369026\n",
       "Madagascar                  1928.012284   1648.373871      -14.503975\n",
       "Gabon                      19556.665840  16144.935297      -17.445359\n",
       "Haiti                       2061.842854   1653.001460      -19.828931\n",
       "Tajikistan                  3661.340213   2923.673718      -20.147445\n",
       "Venezuela                  14619.454190  11489.648818      -21.408497\n",
       "Central African Republic     982.659793    746.434942      -24.039332\n",
       "Ukraine                    10463.959955   7906.540301      -24.440266\n",
       "Yemen                       3425.707169   2404.422370      -29.812379\n",
       "Burundi                     1027.396660    670.777072      -34.710993\n",
       "United Arab Emirates      112349.597967  66477.818719      -40.829500\n",
       "Dem. Rep. Congo             1386.933242    807.752905      -41.759785"
      ]
     },
     "execution_count": 89,
     "metadata": {},
     "output_type": "execute_result"
    }
   ],
   "source": [
    "gdp_pivoted.loc[gdp_pivoted.Percent_Change < 0].sort_values('Percent_Change', ascending = False)"
   ]
  },
  {
   "cell_type": "code",
   "execution_count": 92,
   "metadata": {},
   "outputs": [
    {
     "data": {
      "text/plain": [
       "(20, 3)"
      ]
     },
     "execution_count": 92,
     "metadata": {},
     "output_type": "execute_result"
    }
   ],
   "source": [
    "gdp_pivoted[gdp_pivoted['Percent_Change'] < 0].shape"
   ]
  },
  {
   "cell_type": "markdown",
   "metadata": {},
   "source": [
    "There is 20 countries with a negative percentage."
   ]
  },
  {
   "cell_type": "markdown",
   "metadata": {},
   "source": [
    "17. Which country had the highest % change in GDP per capita? Create a line plot showing this country’s GDP per capita for all years from 1990 to 2017. Create another showing the country with the second highest % change in GDP. How do the trends in these countries compare?"
   ]
  },
  {
   "cell_type": "code",
   "execution_count": 91,
   "metadata": {},
   "outputs": [
    {
     "data": {
      "text/html": [
       "<div>\n",
       "<style scoped>\n",
       "    .dataframe tbody tr th:only-of-type {\n",
       "        vertical-align: middle;\n",
       "    }\n",
       "\n",
       "    .dataframe tbody tr th {\n",
       "        vertical-align: top;\n",
       "    }\n",
       "\n",
       "    .dataframe thead th {\n",
       "        text-align: right;\n",
       "    }\n",
       "</style>\n",
       "<table border=\"1\" class=\"dataframe\">\n",
       "  <thead>\n",
       "    <tr style=\"text-align: right;\">\n",
       "      <th>Year</th>\n",
       "      <th>1990</th>\n",
       "      <th>2017</th>\n",
       "      <th>Percent_Change</th>\n",
       "    </tr>\n",
       "    <tr>\n",
       "      <th>Country</th>\n",
       "      <th></th>\n",
       "      <th></th>\n",
       "      <th></th>\n",
       "    </tr>\n",
       "  </thead>\n",
       "  <tbody>\n",
       "    <tr>\n",
       "      <th>Equatorial Guinea</th>\n",
       "      <td>1017.764136</td>\n",
       "      <td>22298.942144</td>\n",
       "      <td>2090.973464</td>\n",
       "    </tr>\n",
       "  </tbody>\n",
       "</table>\n",
       "</div>"
      ],
      "text/plain": [
       "Year                      1990          2017  Percent_Change\n",
       "Country                                                     \n",
       "Equatorial Guinea  1017.764136  22298.942144     2090.973464"
      ]
     },
     "execution_count": 91,
     "metadata": {},
     "output_type": "execute_result"
    }
   ],
   "source": [
    "gdp_pivoted.nlargest(1, 'Percent_Change')"
   ]
  },
  {
   "cell_type": "markdown",
   "metadata": {},
   "source": [
    "It's equatorial Guinea."
   ]
  },
  {
   "cell_type": "code",
   "execution_count": 97,
   "metadata": {},
   "outputs": [
    {
     "data": {
      "text/plain": [
       "<matplotlib.axes._subplots.AxesSubplot at 0x7fac939c47f0>"
      ]
     },
     "execution_count": 97,
     "metadata": {},
     "output_type": "execute_result"
    },
    {
     "data": {
      "image/png": "[encoded data removed]",
      "text/plain": [
       "<Figure size 432x288 with 1 Axes>"
      ]
     },
     "metadata": {
      "needs_background": "light"
     },
     "output_type": "display_data"
    }
   ],
   "source": [
    "gdp_df.plot(x ='Year', y='GDP_Per_Capita', kind = 'line')"
   ]
  },
  {
   "cell_type": "code",
   "execution_count": 99,
   "metadata": {},
   "outputs": [
    {
     "data": {
      "text/html": [
       "<div>\n",
       "<style scoped>\n",
       "    .dataframe tbody tr th:only-of-type {\n",
       "        vertical-align: middle;\n",
       "    }\n",
       "\n",
       "    .dataframe tbody tr th {\n",
       "        vertical-align: top;\n",
       "    }\n",
       "\n",
       "    .dataframe thead th {\n",
       "        text-align: right;\n",
       "    }\n",
       "</style>\n",
       "<table border=\"1\" class=\"dataframe\">\n",
       "  <thead>\n",
       "    <tr style=\"text-align: right;\">\n",
       "      <th>Year</th>\n",
       "      <th>1990</th>\n",
       "      <th>2017</th>\n",
       "      <th>Percent_Change</th>\n",
       "    </tr>\n",
       "    <tr>\n",
       "      <th>Country</th>\n",
       "      <th></th>\n",
       "      <th></th>\n",
       "      <th></th>\n",
       "    </tr>\n",
       "  </thead>\n",
       "  <tbody>\n",
       "    <tr>\n",
       "      <th>Equatorial Guinea</th>\n",
       "      <td>1017.764136</td>\n",
       "      <td>22298.942144</td>\n",
       "      <td>2090.973464</td>\n",
       "    </tr>\n",
       "    <tr>\n",
       "      <th>China</th>\n",
       "      <td>1521.963868</td>\n",
       "      <td>15253.993071</td>\n",
       "      <td>902.257241</td>\n",
       "    </tr>\n",
       "  </tbody>\n",
       "</table>\n",
       "</div>"
      ],
      "text/plain": [
       "Year                      1990          2017  Percent_Change\n",
       "Country                                                     \n",
       "Equatorial Guinea  1017.764136  22298.942144     2090.973464\n",
       "China              1521.963868  15253.993071      902.257241"
      ]
     },
     "execution_count": 99,
     "metadata": {},
     "output_type": "execute_result"
    }
   ],
   "source": [
    "gdp_pivoted.nlargest(2, 'Percent_Change')"
   ]
  },
  {
   "cell_type": "code",
   "execution_count": null,
   "metadata": {},
   "outputs": [],
   "source": []
  },
  {
   "cell_type": "code",
   "execution_count": null,
   "metadata": {},
   "outputs": [],
   "source": [
    "### Bonus: Put both line charts on the same plot."
   ]
  },
  {
   "cell_type": "code",
   "execution_count": null,
   "metadata": {},
   "outputs": [],
   "source": []
  }
 ],
 "metadata": {
  "kernelspec": {
   "display_name": "Python 3",
   "language": "python",
   "name": "python3"
  },
  "language_info": {
   "codemirror_mode": {
    "name": "ipython",
    "version": 3
   },
   "file_extension": ".py",
   "mimetype": "text/x-python",
   "name": "python",
   "nbconvert_exporter": "python",
   "pygments_lexer": "ipython3",
   "version": "3.7.3"
  }
 },
 "nbformat": 4,
 "nbformat_minor": 2
}
